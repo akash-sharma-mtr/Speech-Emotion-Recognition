{
 "cells": [
  {
   "cell_type": "markdown",
   "id": "46a01d7d-7d2c-4189-8506-b1e9a0bce512",
   "metadata": {},
   "source": [
    "## Importing Required Libraries"
   ]
  },
  {
   "cell_type": "code",
   "execution_count": 1,
   "id": "ccc0f97e-5247-48c0-af77-185f86b18e08",
   "metadata": {},
   "outputs": [],
   "source": [
    "import os\n",
    "import numpy as np\n",
    "import pandas as pd\n",
    "import librosa\n",
    "import librosa.display\n",
    "import matplotlib.pyplot as plt\n",
    "from sklearn.model_selection import train_test_split\n",
    "from sklearn.preprocessing import LabelEncoder\n",
    "from keras.utils import to_categorical\n",
    "from keras.models import Sequential\n",
    "from keras.layers import Dense, Dropout, LSTM\n",
    "from sklearn.metrics import classification_report, accuracy_score"
   ]
  },
  {
   "cell_type": "markdown",
   "id": "65345226-a2c2-483c-acf5-64cb628350a5",
   "metadata": {},
   "source": [
    "## Loading and Preprocessing the Dataset"
   ]
  },
  {
   "cell_type": "code",
   "execution_count": 2,
   "id": "e6b59091-869a-4d5a-8045-3e88aa6aed65",
   "metadata": {},
   "outputs": [],
   "source": [
    "DATA_PATH = './TESS Toronto emotional speech set data'  # Path to TESS dataset\n",
    "\n",
    "def extract_features(file_path, max_len=216000):\n",
    "    audio, sample_rate = librosa.load(file_path)\n",
    "    if len(audio) < max_len:\n",
    "        audio = np.pad(audio, (0, max_len - len(audio)), mode='constant')\n",
    "    else:\n",
    "        audio = audio[:max_len]\n",
    "\n",
    "    # Extracting MFCC features\n",
    "    mfccs = librosa.feature.mfcc(y=audio, sr=sample_rate, n_mfcc=40)\n",
    "    mfccs = np.mean(mfccs.T, axis=0)\n",
    "\n",
    "    return mfccs"
   ]
  },
  {
   "cell_type": "code",
   "execution_count": 3,
   "id": "5101daf8-1569-420f-b6b2-f39e173e9421",
   "metadata": {},
   "outputs": [],
   "source": [
    "# Loop over files and extract features\n",
    "emotion_labels = []\n",
    "features = []\n",
    "\n",
    "for folder in os.listdir(DATA_PATH):\n",
    "    folder_path = os.path.join(DATA_PATH, folder)\n",
    "    # Check if current item is a directory and not the parent directory\n",
    "    if os.path.isdir(folder_path) and folder != os.path.basename(DATA_PATH):\n",
    "        for file in os.listdir(folder_path):\n",
    "            file_path = os.path.join(folder_path, file)\n",
    "            feature = extract_features(file_path)\n",
    "            features.append(feature)\n",
    "            emotion_labels.append(folder.split('_')[-1].lower())  # Extract emotion label from folder name\n",
    "\n",
    "# Convert to DataFrame\n",
    "df = pd.DataFrame(features)\n",
    "df['emotion'] = emotion_labels"
   ]
  },
  {
   "cell_type": "code",
   "execution_count": 4,
   "id": "e88042f2-6ee5-4a76-94b7-53db73de2c89",
   "metadata": {},
   "outputs": [
    {
     "data": {
      "text/plain": [
       "array(['angry', 'disgust', 'fear', 'happy', 'neutral', 'surprise', 'sad',\n",
       "       'surprised'], dtype=object)"
      ]
     },
     "execution_count": 4,
     "metadata": {},
     "output_type": "execute_result"
    }
   ],
   "source": [
    "df['emotion'].unique()"
   ]
  },
  {
   "cell_type": "code",
   "execution_count": 5,
   "id": "f86ea937-66e3-4dcf-a5c7-c02f7291a910",
   "metadata": {},
   "outputs": [],
   "source": [
    "df['emotion'] = df['emotion'].replace('surprised','surprise')"
   ]
  },
  {
   "cell_type": "code",
   "execution_count": 6,
   "id": "e49cbae3-e8b7-4f1a-a431-e38004b2f9fe",
   "metadata": {},
   "outputs": [
    {
     "data": {
      "text/html": [
       "<div>\n",
       "<style scoped>\n",
       "    .dataframe tbody tr th:only-of-type {\n",
       "        vertical-align: middle;\n",
       "    }\n",
       "\n",
       "    .dataframe tbody tr th {\n",
       "        vertical-align: top;\n",
       "    }\n",
       "\n",
       "    .dataframe thead th {\n",
       "        text-align: right;\n",
       "    }\n",
       "</style>\n",
       "<table border=\"1\" class=\"dataframe\">\n",
       "  <thead>\n",
       "    <tr style=\"text-align: right;\">\n",
       "      <th></th>\n",
       "      <th>0</th>\n",
       "      <th>1</th>\n",
       "      <th>2</th>\n",
       "      <th>3</th>\n",
       "      <th>4</th>\n",
       "      <th>5</th>\n",
       "      <th>6</th>\n",
       "      <th>7</th>\n",
       "      <th>8</th>\n",
       "      <th>9</th>\n",
       "      <th>...</th>\n",
       "      <th>31</th>\n",
       "      <th>32</th>\n",
       "      <th>33</th>\n",
       "      <th>34</th>\n",
       "      <th>35</th>\n",
       "      <th>36</th>\n",
       "      <th>37</th>\n",
       "      <th>38</th>\n",
       "      <th>39</th>\n",
       "      <th>emotion</th>\n",
       "    </tr>\n",
       "  </thead>\n",
       "  <tbody>\n",
       "    <tr>\n",
       "      <th>0</th>\n",
       "      <td>-573.231567</td>\n",
       "      <td>8.344155</td>\n",
       "      <td>-2.780707</td>\n",
       "      <td>-1.860145</td>\n",
       "      <td>-0.732571</td>\n",
       "      <td>1.207681</td>\n",
       "      <td>-3.967757</td>\n",
       "      <td>-1.088819</td>\n",
       "      <td>-1.588332</td>\n",
       "      <td>-0.502856</td>\n",
       "      <td>...</td>\n",
       "      <td>0.908792</td>\n",
       "      <td>1.417375</td>\n",
       "      <td>1.006114</td>\n",
       "      <td>0.353054</td>\n",
       "      <td>-0.354103</td>\n",
       "      <td>0.460309</td>\n",
       "      <td>1.401407</td>\n",
       "      <td>0.280231</td>\n",
       "      <td>-0.297650</td>\n",
       "      <td>angry</td>\n",
       "    </tr>\n",
       "    <tr>\n",
       "      <th>1</th>\n",
       "      <td>-654.113464</td>\n",
       "      <td>10.933579</td>\n",
       "      <td>-0.381045</td>\n",
       "      <td>-3.345497</td>\n",
       "      <td>-1.679429</td>\n",
       "      <td>1.791179</td>\n",
       "      <td>-1.514576</td>\n",
       "      <td>-0.173761</td>\n",
       "      <td>-2.021596</td>\n",
       "      <td>0.523368</td>\n",
       "      <td>...</td>\n",
       "      <td>1.957557</td>\n",
       "      <td>1.721298</td>\n",
       "      <td>0.462296</td>\n",
       "      <td>-0.093947</td>\n",
       "      <td>-0.598738</td>\n",
       "      <td>0.384984</td>\n",
       "      <td>1.609181</td>\n",
       "      <td>0.394646</td>\n",
       "      <td>0.040918</td>\n",
       "      <td>angry</td>\n",
       "    </tr>\n",
       "    <tr>\n",
       "      <th>2</th>\n",
       "      <td>-597.014221</td>\n",
       "      <td>4.211325</td>\n",
       "      <td>-0.760140</td>\n",
       "      <td>-0.013426</td>\n",
       "      <td>-0.130690</td>\n",
       "      <td>0.145909</td>\n",
       "      <td>-3.029307</td>\n",
       "      <td>-0.385222</td>\n",
       "      <td>-2.087316</td>\n",
       "      <td>-0.138440</td>\n",
       "      <td>...</td>\n",
       "      <td>1.688679</td>\n",
       "      <td>1.489420</td>\n",
       "      <td>-0.344504</td>\n",
       "      <td>-0.584651</td>\n",
       "      <td>0.302071</td>\n",
       "      <td>0.359291</td>\n",
       "      <td>1.205243</td>\n",
       "      <td>-0.230824</td>\n",
       "      <td>-0.448570</td>\n",
       "      <td>angry</td>\n",
       "    </tr>\n",
       "    <tr>\n",
       "      <th>3</th>\n",
       "      <td>-570.304749</td>\n",
       "      <td>8.697978</td>\n",
       "      <td>-1.905161</td>\n",
       "      <td>-2.310101</td>\n",
       "      <td>-0.639894</td>\n",
       "      <td>1.138400</td>\n",
       "      <td>-3.590364</td>\n",
       "      <td>-1.266126</td>\n",
       "      <td>-2.199064</td>\n",
       "      <td>-0.517918</td>\n",
       "      <td>...</td>\n",
       "      <td>1.407061</td>\n",
       "      <td>1.213907</td>\n",
       "      <td>1.013532</td>\n",
       "      <td>0.485404</td>\n",
       "      <td>0.155513</td>\n",
       "      <td>0.519386</td>\n",
       "      <td>1.254492</td>\n",
       "      <td>0.616457</td>\n",
       "      <td>0.559833</td>\n",
       "      <td>angry</td>\n",
       "    </tr>\n",
       "    <tr>\n",
       "      <th>4</th>\n",
       "      <td>-607.471924</td>\n",
       "      <td>7.703933</td>\n",
       "      <td>0.641928</td>\n",
       "      <td>1.351061</td>\n",
       "      <td>0.613034</td>\n",
       "      <td>0.129575</td>\n",
       "      <td>-3.481271</td>\n",
       "      <td>1.082902</td>\n",
       "      <td>-2.831280</td>\n",
       "      <td>-1.816543</td>\n",
       "      <td>...</td>\n",
       "      <td>0.988509</td>\n",
       "      <td>0.207713</td>\n",
       "      <td>-0.057722</td>\n",
       "      <td>-0.100306</td>\n",
       "      <td>0.110810</td>\n",
       "      <td>0.277015</td>\n",
       "      <td>0.354644</td>\n",
       "      <td>-0.406089</td>\n",
       "      <td>-0.184251</td>\n",
       "      <td>angry</td>\n",
       "    </tr>\n",
       "    <tr>\n",
       "      <th>5</th>\n",
       "      <td>-628.245789</td>\n",
       "      <td>7.872582</td>\n",
       "      <td>-0.715718</td>\n",
       "      <td>-0.086498</td>\n",
       "      <td>1.134971</td>\n",
       "      <td>0.560717</td>\n",
       "      <td>-4.128131</td>\n",
       "      <td>-0.520518</td>\n",
       "      <td>-1.623482</td>\n",
       "      <td>-0.696337</td>\n",
       "      <td>...</td>\n",
       "      <td>1.610297</td>\n",
       "      <td>1.147512</td>\n",
       "      <td>0.981040</td>\n",
       "      <td>0.663113</td>\n",
       "      <td>0.213435</td>\n",
       "      <td>0.244121</td>\n",
       "      <td>1.159373</td>\n",
       "      <td>0.517769</td>\n",
       "      <td>0.991196</td>\n",
       "      <td>angry</td>\n",
       "    </tr>\n",
       "    <tr>\n",
       "      <th>6</th>\n",
       "      <td>-599.404297</td>\n",
       "      <td>7.763792</td>\n",
       "      <td>-1.786114</td>\n",
       "      <td>-0.182385</td>\n",
       "      <td>-0.694234</td>\n",
       "      <td>-0.193524</td>\n",
       "      <td>-3.475924</td>\n",
       "      <td>0.194668</td>\n",
       "      <td>-1.915171</td>\n",
       "      <td>-0.117511</td>\n",
       "      <td>...</td>\n",
       "      <td>0.777895</td>\n",
       "      <td>0.178549</td>\n",
       "      <td>-0.208163</td>\n",
       "      <td>0.773405</td>\n",
       "      <td>0.327326</td>\n",
       "      <td>0.074117</td>\n",
       "      <td>0.085967</td>\n",
       "      <td>-0.255037</td>\n",
       "      <td>0.243054</td>\n",
       "      <td>angry</td>\n",
       "    </tr>\n",
       "    <tr>\n",
       "      <th>7</th>\n",
       "      <td>-629.121399</td>\n",
       "      <td>10.316868</td>\n",
       "      <td>1.349914</td>\n",
       "      <td>-1.072549</td>\n",
       "      <td>-1.358860</td>\n",
       "      <td>0.049302</td>\n",
       "      <td>-2.349235</td>\n",
       "      <td>0.109379</td>\n",
       "      <td>-2.606013</td>\n",
       "      <td>-0.885612</td>\n",
       "      <td>...</td>\n",
       "      <td>0.849921</td>\n",
       "      <td>1.040062</td>\n",
       "      <td>0.270486</td>\n",
       "      <td>0.702107</td>\n",
       "      <td>-0.183377</td>\n",
       "      <td>-0.092824</td>\n",
       "      <td>1.273679</td>\n",
       "      <td>0.090836</td>\n",
       "      <td>0.176948</td>\n",
       "      <td>angry</td>\n",
       "    </tr>\n",
       "    <tr>\n",
       "      <th>8</th>\n",
       "      <td>-575.991272</td>\n",
       "      <td>10.290846</td>\n",
       "      <td>3.158916</td>\n",
       "      <td>-0.086510</td>\n",
       "      <td>-2.885116</td>\n",
       "      <td>-0.471903</td>\n",
       "      <td>-1.926560</td>\n",
       "      <td>0.364010</td>\n",
       "      <td>-3.436277</td>\n",
       "      <td>0.256139</td>\n",
       "      <td>...</td>\n",
       "      <td>1.210570</td>\n",
       "      <td>1.192479</td>\n",
       "      <td>0.788098</td>\n",
       "      <td>1.185362</td>\n",
       "      <td>0.349989</td>\n",
       "      <td>-0.020929</td>\n",
       "      <td>1.840014</td>\n",
       "      <td>-0.062133</td>\n",
       "      <td>0.444532</td>\n",
       "      <td>angry</td>\n",
       "    </tr>\n",
       "    <tr>\n",
       "      <th>9</th>\n",
       "      <td>-605.272217</td>\n",
       "      <td>6.993153</td>\n",
       "      <td>-0.885353</td>\n",
       "      <td>-2.221854</td>\n",
       "      <td>-1.377908</td>\n",
       "      <td>1.089055</td>\n",
       "      <td>-2.729895</td>\n",
       "      <td>-0.514589</td>\n",
       "      <td>-2.765399</td>\n",
       "      <td>-0.733046</td>\n",
       "      <td>...</td>\n",
       "      <td>1.153950</td>\n",
       "      <td>0.316486</td>\n",
       "      <td>-0.293939</td>\n",
       "      <td>0.353994</td>\n",
       "      <td>0.607497</td>\n",
       "      <td>0.006211</td>\n",
       "      <td>0.573338</td>\n",
       "      <td>-0.373196</td>\n",
       "      <td>0.318810</td>\n",
       "      <td>angry</td>\n",
       "    </tr>\n",
       "  </tbody>\n",
       "</table>\n",
       "<p>10 rows × 41 columns</p>\n",
       "</div>"
      ],
      "text/plain": [
       "            0          1         2         3         4         5         6  \\\n",
       "0 -573.231567   8.344155 -2.780707 -1.860145 -0.732571  1.207681 -3.967757   \n",
       "1 -654.113464  10.933579 -0.381045 -3.345497 -1.679429  1.791179 -1.514576   \n",
       "2 -597.014221   4.211325 -0.760140 -0.013426 -0.130690  0.145909 -3.029307   \n",
       "3 -570.304749   8.697978 -1.905161 -2.310101 -0.639894  1.138400 -3.590364   \n",
       "4 -607.471924   7.703933  0.641928  1.351061  0.613034  0.129575 -3.481271   \n",
       "5 -628.245789   7.872582 -0.715718 -0.086498  1.134971  0.560717 -4.128131   \n",
       "6 -599.404297   7.763792 -1.786114 -0.182385 -0.694234 -0.193524 -3.475924   \n",
       "7 -629.121399  10.316868  1.349914 -1.072549 -1.358860  0.049302 -2.349235   \n",
       "8 -575.991272  10.290846  3.158916 -0.086510 -2.885116 -0.471903 -1.926560   \n",
       "9 -605.272217   6.993153 -0.885353 -2.221854 -1.377908  1.089055 -2.729895   \n",
       "\n",
       "          7         8         9  ...        31        32        33        34  \\\n",
       "0 -1.088819 -1.588332 -0.502856  ...  0.908792  1.417375  1.006114  0.353054   \n",
       "1 -0.173761 -2.021596  0.523368  ...  1.957557  1.721298  0.462296 -0.093947   \n",
       "2 -0.385222 -2.087316 -0.138440  ...  1.688679  1.489420 -0.344504 -0.584651   \n",
       "3 -1.266126 -2.199064 -0.517918  ...  1.407061  1.213907  1.013532  0.485404   \n",
       "4  1.082902 -2.831280 -1.816543  ...  0.988509  0.207713 -0.057722 -0.100306   \n",
       "5 -0.520518 -1.623482 -0.696337  ...  1.610297  1.147512  0.981040  0.663113   \n",
       "6  0.194668 -1.915171 -0.117511  ...  0.777895  0.178549 -0.208163  0.773405   \n",
       "7  0.109379 -2.606013 -0.885612  ...  0.849921  1.040062  0.270486  0.702107   \n",
       "8  0.364010 -3.436277  0.256139  ...  1.210570  1.192479  0.788098  1.185362   \n",
       "9 -0.514589 -2.765399 -0.733046  ...  1.153950  0.316486 -0.293939  0.353994   \n",
       "\n",
       "         35        36        37        38        39  emotion  \n",
       "0 -0.354103  0.460309  1.401407  0.280231 -0.297650    angry  \n",
       "1 -0.598738  0.384984  1.609181  0.394646  0.040918    angry  \n",
       "2  0.302071  0.359291  1.205243 -0.230824 -0.448570    angry  \n",
       "3  0.155513  0.519386  1.254492  0.616457  0.559833    angry  \n",
       "4  0.110810  0.277015  0.354644 -0.406089 -0.184251    angry  \n",
       "5  0.213435  0.244121  1.159373  0.517769  0.991196    angry  \n",
       "6  0.327326  0.074117  0.085967 -0.255037  0.243054    angry  \n",
       "7 -0.183377 -0.092824  1.273679  0.090836  0.176948    angry  \n",
       "8  0.349989 -0.020929  1.840014 -0.062133  0.444532    angry  \n",
       "9  0.607497  0.006211  0.573338 -0.373196  0.318810    angry  \n",
       "\n",
       "[10 rows x 41 columns]"
      ]
     },
     "execution_count": 6,
     "metadata": {},
     "output_type": "execute_result"
    }
   ],
   "source": [
    "df.head(10)"
   ]
  },
  {
   "cell_type": "markdown",
   "id": "b0321cb1-a63c-4ff9-9296-513ef7807c42",
   "metadata": {},
   "source": [
    "## Preparing Dataset for the model"
   ]
  },
  {
   "cell_type": "code",
   "execution_count": 7,
   "id": "22b15c21-9a07-46c9-a1aa-35b53c23ff51",
   "metadata": {},
   "outputs": [],
   "source": [
    "# Encoding the labels\n",
    "label_encoder = LabelEncoder()\n",
    "df['emotion'] = label_encoder.fit_transform(df['emotion'])\n",
    "\n",
    "# Splitting data into train and test sets\n",
    "X = df.drop('emotion', axis=1).values\n",
    "y = df['emotion'].values\n",
    "y = to_categorical(y)  # One-hot encoding\n",
    "\n",
    "X_train, X_test, y_train, y_test = train_test_split(X, y, test_size=0.2, random_state=42)\n"
   ]
  },
  {
   "cell_type": "code",
   "execution_count": 8,
   "id": "60367c68-def4-4e06-adba-917935f8c62c",
   "metadata": {},
   "outputs": [
    {
     "data": {
      "text/plain": [
       "array([[1., 0., 0., ..., 0., 0., 0.],\n",
       "       [1., 0., 0., ..., 0., 0., 0.],\n",
       "       [1., 0., 0., ..., 0., 0., 0.],\n",
       "       ...,\n",
       "       [0., 0., 0., ..., 0., 1., 0.],\n",
       "       [0., 0., 0., ..., 0., 1., 0.],\n",
       "       [0., 0., 0., ..., 0., 1., 0.]])"
      ]
     },
     "execution_count": 8,
     "metadata": {},
     "output_type": "execute_result"
    }
   ],
   "source": [
    "y"
   ]
  },
  {
   "cell_type": "markdown",
   "id": "44fa7d13-7401-43f4-95d8-f0f9f2afac51",
   "metadata": {},
   "source": [
    "## Creating Model"
   ]
  },
  {
   "cell_type": "code",
   "execution_count": 9,
   "id": "93247068-926a-4128-8e79-867373650723",
   "metadata": {},
   "outputs": [
    {
     "name": "stderr",
     "output_type": "stream",
     "text": [
      "C:\\Users\\Akash Sharma\\anaconda3\\Lib\\site-packages\\keras\\src\\layers\\rnn\\rnn.py:204: UserWarning: Do not pass an `input_shape`/`input_dim` argument to a layer. When using Sequential models, prefer using an `Input(shape)` object as the first layer in the model instead.\n",
      "  super().__init__(**kwargs)\n"
     ]
    }
   ],
   "source": [
    "model = Sequential([\n",
    "    LSTM(256,return_sequences=False, input_shape=(40,1)),\n",
    "    Dropout(0.5),\n",
    "    Dense(128,activation='relu'),\n",
    "    Dropout(0.5),\n",
    "    Dense(64,activation='relu'),\n",
    "    Dropout(0.5),\n",
    "    Dense(7,activation='softmax')\n",
    "])"
   ]
  },
  {
   "cell_type": "code",
   "execution_count": 10,
   "id": "a5b9cb10-d6c3-4dab-8ee1-8f0277f12dd4",
   "metadata": {},
   "outputs": [],
   "source": [
    "model.compile(loss='categorical_crossentropy',optimizer='adam',metrics=['accuracy'])"
   ]
  },
  {
   "cell_type": "code",
   "execution_count": 11,
   "id": "5fe84ddb-331f-4f8b-99b1-ae25421a223d",
   "metadata": {},
   "outputs": [
    {
     "data": {
      "text/html": [
       "<pre style=\"white-space:pre;overflow-x:auto;line-height:normal;font-family:Menlo,'DejaVu Sans Mono',consolas,'Courier New',monospace\"><span style=\"font-weight: bold\">Model: \"sequential\"</span>\n",
       "</pre>\n"
      ],
      "text/plain": [
       "\u001b[1mModel: \"sequential\"\u001b[0m\n"
      ]
     },
     "metadata": {},
     "output_type": "display_data"
    },
    {
     "data": {
      "text/html": [
       "<pre style=\"white-space:pre;overflow-x:auto;line-height:normal;font-family:Menlo,'DejaVu Sans Mono',consolas,'Courier New',monospace\">┏━━━━━━━━━━━━━━━━━━━━━━━━━━━━━━━━━━━━━━┳━━━━━━━━━━━━━━━━━━━━━━━━━━━━━┳━━━━━━━━━━━━━━━━━┓\n",
       "┃<span style=\"font-weight: bold\"> Layer (type)                         </span>┃<span style=\"font-weight: bold\"> Output Shape                </span>┃<span style=\"font-weight: bold\">         Param # </span>┃\n",
       "┡━━━━━━━━━━━━━━━━━━━━━━━━━━━━━━━━━━━━━━╇━━━━━━━━━━━━━━━━━━━━━━━━━━━━━╇━━━━━━━━━━━━━━━━━┩\n",
       "│ lstm (<span style=\"color: #0087ff; text-decoration-color: #0087ff\">LSTM</span>)                          │ (<span style=\"color: #00d7ff; text-decoration-color: #00d7ff\">None</span>, <span style=\"color: #00af00; text-decoration-color: #00af00\">256</span>)                 │         <span style=\"color: #00af00; text-decoration-color: #00af00\">264,192</span> │\n",
       "├──────────────────────────────────────┼─────────────────────────────┼─────────────────┤\n",
       "│ dropout (<span style=\"color: #0087ff; text-decoration-color: #0087ff\">Dropout</span>)                    │ (<span style=\"color: #00d7ff; text-decoration-color: #00d7ff\">None</span>, <span style=\"color: #00af00; text-decoration-color: #00af00\">256</span>)                 │               <span style=\"color: #00af00; text-decoration-color: #00af00\">0</span> │\n",
       "├──────────────────────────────────────┼─────────────────────────────┼─────────────────┤\n",
       "│ dense (<span style=\"color: #0087ff; text-decoration-color: #0087ff\">Dense</span>)                        │ (<span style=\"color: #00d7ff; text-decoration-color: #00d7ff\">None</span>, <span style=\"color: #00af00; text-decoration-color: #00af00\">128</span>)                 │          <span style=\"color: #00af00; text-decoration-color: #00af00\">32,896</span> │\n",
       "├──────────────────────────────────────┼─────────────────────────────┼─────────────────┤\n",
       "│ dropout_1 (<span style=\"color: #0087ff; text-decoration-color: #0087ff\">Dropout</span>)                  │ (<span style=\"color: #00d7ff; text-decoration-color: #00d7ff\">None</span>, <span style=\"color: #00af00; text-decoration-color: #00af00\">128</span>)                 │               <span style=\"color: #00af00; text-decoration-color: #00af00\">0</span> │\n",
       "├──────────────────────────────────────┼─────────────────────────────┼─────────────────┤\n",
       "│ dense_1 (<span style=\"color: #0087ff; text-decoration-color: #0087ff\">Dense</span>)                      │ (<span style=\"color: #00d7ff; text-decoration-color: #00d7ff\">None</span>, <span style=\"color: #00af00; text-decoration-color: #00af00\">64</span>)                  │           <span style=\"color: #00af00; text-decoration-color: #00af00\">8,256</span> │\n",
       "├──────────────────────────────────────┼─────────────────────────────┼─────────────────┤\n",
       "│ dropout_2 (<span style=\"color: #0087ff; text-decoration-color: #0087ff\">Dropout</span>)                  │ (<span style=\"color: #00d7ff; text-decoration-color: #00d7ff\">None</span>, <span style=\"color: #00af00; text-decoration-color: #00af00\">64</span>)                  │               <span style=\"color: #00af00; text-decoration-color: #00af00\">0</span> │\n",
       "├──────────────────────────────────────┼─────────────────────────────┼─────────────────┤\n",
       "│ dense_2 (<span style=\"color: #0087ff; text-decoration-color: #0087ff\">Dense</span>)                      │ (<span style=\"color: #00d7ff; text-decoration-color: #00d7ff\">None</span>, <span style=\"color: #00af00; text-decoration-color: #00af00\">7</span>)                   │             <span style=\"color: #00af00; text-decoration-color: #00af00\">455</span> │\n",
       "└──────────────────────────────────────┴─────────────────────────────┴─────────────────┘\n",
       "</pre>\n"
      ],
      "text/plain": [
       "┏━━━━━━━━━━━━━━━━━━━━━━━━━━━━━━━━━━━━━━┳━━━━━━━━━━━━━━━━━━━━━━━━━━━━━┳━━━━━━━━━━━━━━━━━┓\n",
       "┃\u001b[1m \u001b[0m\u001b[1mLayer (type)                        \u001b[0m\u001b[1m \u001b[0m┃\u001b[1m \u001b[0m\u001b[1mOutput Shape               \u001b[0m\u001b[1m \u001b[0m┃\u001b[1m \u001b[0m\u001b[1m        Param #\u001b[0m\u001b[1m \u001b[0m┃\n",
       "┡━━━━━━━━━━━━━━━━━━━━━━━━━━━━━━━━━━━━━━╇━━━━━━━━━━━━━━━━━━━━━━━━━━━━━╇━━━━━━━━━━━━━━━━━┩\n",
       "│ lstm (\u001b[38;5;33mLSTM\u001b[0m)                          │ (\u001b[38;5;45mNone\u001b[0m, \u001b[38;5;34m256\u001b[0m)                 │         \u001b[38;5;34m264,192\u001b[0m │\n",
       "├──────────────────────────────────────┼─────────────────────────────┼─────────────────┤\n",
       "│ dropout (\u001b[38;5;33mDropout\u001b[0m)                    │ (\u001b[38;5;45mNone\u001b[0m, \u001b[38;5;34m256\u001b[0m)                 │               \u001b[38;5;34m0\u001b[0m │\n",
       "├──────────────────────────────────────┼─────────────────────────────┼─────────────────┤\n",
       "│ dense (\u001b[38;5;33mDense\u001b[0m)                        │ (\u001b[38;5;45mNone\u001b[0m, \u001b[38;5;34m128\u001b[0m)                 │          \u001b[38;5;34m32,896\u001b[0m │\n",
       "├──────────────────────────────────────┼─────────────────────────────┼─────────────────┤\n",
       "│ dropout_1 (\u001b[38;5;33mDropout\u001b[0m)                  │ (\u001b[38;5;45mNone\u001b[0m, \u001b[38;5;34m128\u001b[0m)                 │               \u001b[38;5;34m0\u001b[0m │\n",
       "├──────────────────────────────────────┼─────────────────────────────┼─────────────────┤\n",
       "│ dense_1 (\u001b[38;5;33mDense\u001b[0m)                      │ (\u001b[38;5;45mNone\u001b[0m, \u001b[38;5;34m64\u001b[0m)                  │           \u001b[38;5;34m8,256\u001b[0m │\n",
       "├──────────────────────────────────────┼─────────────────────────────┼─────────────────┤\n",
       "│ dropout_2 (\u001b[38;5;33mDropout\u001b[0m)                  │ (\u001b[38;5;45mNone\u001b[0m, \u001b[38;5;34m64\u001b[0m)                  │               \u001b[38;5;34m0\u001b[0m │\n",
       "├──────────────────────────────────────┼─────────────────────────────┼─────────────────┤\n",
       "│ dense_2 (\u001b[38;5;33mDense\u001b[0m)                      │ (\u001b[38;5;45mNone\u001b[0m, \u001b[38;5;34m7\u001b[0m)                   │             \u001b[38;5;34m455\u001b[0m │\n",
       "└──────────────────────────────────────┴─────────────────────────────┴─────────────────┘\n"
      ]
     },
     "metadata": {},
     "output_type": "display_data"
    },
    {
     "data": {
      "text/html": [
       "<pre style=\"white-space:pre;overflow-x:auto;line-height:normal;font-family:Menlo,'DejaVu Sans Mono',consolas,'Courier New',monospace\"><span style=\"font-weight: bold\"> Total params: </span><span style=\"color: #00af00; text-decoration-color: #00af00\">305,799</span> (1.17 MB)\n",
       "</pre>\n"
      ],
      "text/plain": [
       "\u001b[1m Total params: \u001b[0m\u001b[38;5;34m305,799\u001b[0m (1.17 MB)\n"
      ]
     },
     "metadata": {},
     "output_type": "display_data"
    },
    {
     "data": {
      "text/html": [
       "<pre style=\"white-space:pre;overflow-x:auto;line-height:normal;font-family:Menlo,'DejaVu Sans Mono',consolas,'Courier New',monospace\"><span style=\"font-weight: bold\"> Trainable params: </span><span style=\"color: #00af00; text-decoration-color: #00af00\">305,799</span> (1.17 MB)\n",
       "</pre>\n"
      ],
      "text/plain": [
       "\u001b[1m Trainable params: \u001b[0m\u001b[38;5;34m305,799\u001b[0m (1.17 MB)\n"
      ]
     },
     "metadata": {},
     "output_type": "display_data"
    },
    {
     "data": {
      "text/html": [
       "<pre style=\"white-space:pre;overflow-x:auto;line-height:normal;font-family:Menlo,'DejaVu Sans Mono',consolas,'Courier New',monospace\"><span style=\"font-weight: bold\"> Non-trainable params: </span><span style=\"color: #00af00; text-decoration-color: #00af00\">0</span> (0.00 B)\n",
       "</pre>\n"
      ],
      "text/plain": [
       "\u001b[1m Non-trainable params: \u001b[0m\u001b[38;5;34m0\u001b[0m (0.00 B)\n"
      ]
     },
     "metadata": {},
     "output_type": "display_data"
    }
   ],
   "source": [
    "model.summary()"
   ]
  },
  {
   "cell_type": "code",
   "execution_count": 12,
   "id": "9aab4b20-8227-4919-8d73-c535865d2b97",
   "metadata": {},
   "outputs": [
    {
     "name": "stdout",
     "output_type": "stream",
     "text": [
      "Epoch 1/30\n",
      "\u001b[1m35/35\u001b[0m \u001b[32m━━━━━━━━━━━━━━━━━━━━\u001b[0m\u001b[37m\u001b[0m \u001b[1m18s\u001b[0m 216ms/step - accuracy: 0.2301 - loss: 1.8708 - val_accuracy: 0.5446 - val_loss: 1.1767\n",
      "Epoch 2/30\n",
      "\u001b[1m35/35\u001b[0m \u001b[32m━━━━━━━━━━━━━━━━━━━━\u001b[0m\u001b[37m\u001b[0m \u001b[1m6s\u001b[0m 162ms/step - accuracy: 0.5103 - loss: 1.2556 - val_accuracy: 0.7643 - val_loss: 0.5854\n",
      "Epoch 3/30\n",
      "\u001b[1m35/35\u001b[0m \u001b[32m━━━━━━━━━━━━━━━━━━━━\u001b[0m\u001b[37m\u001b[0m \u001b[1m5s\u001b[0m 155ms/step - accuracy: 0.6867 - loss: 0.8277 - val_accuracy: 0.8643 - val_loss: 0.3534\n",
      "Epoch 4/30\n",
      "\u001b[1m35/35\u001b[0m \u001b[32m━━━━━━━━━━━━━━━━━━━━\u001b[0m\u001b[37m\u001b[0m \u001b[1m6s\u001b[0m 157ms/step - accuracy: 0.8319 - loss: 0.5111 - val_accuracy: 0.8446 - val_loss: 0.4208\n",
      "Epoch 5/30\n",
      "\u001b[1m35/35\u001b[0m \u001b[32m━━━━━━━━━━━━━━━━━━━━\u001b[0m\u001b[37m\u001b[0m \u001b[1m5s\u001b[0m 156ms/step - accuracy: 0.8312 - loss: 0.5760 - val_accuracy: 0.8946 - val_loss: 0.3062\n",
      "Epoch 6/30\n",
      "\u001b[1m35/35\u001b[0m \u001b[32m━━━━━━━━━━━━━━━━━━━━\u001b[0m\u001b[37m\u001b[0m \u001b[1m5s\u001b[0m 156ms/step - accuracy: 0.8683 - loss: 0.3928 - val_accuracy: 0.9339 - val_loss: 0.1915\n",
      "Epoch 7/30\n",
      "\u001b[1m35/35\u001b[0m \u001b[32m━━━━━━━━━━━━━━━━━━━━\u001b[0m\u001b[37m\u001b[0m \u001b[1m5s\u001b[0m 156ms/step - accuracy: 0.9053 - loss: 0.2832 - val_accuracy: 0.9321 - val_loss: 0.2340\n",
      "Epoch 8/30\n",
      "\u001b[1m35/35\u001b[0m \u001b[32m━━━━━━━━━━━━━━━━━━━━\u001b[0m\u001b[37m\u001b[0m \u001b[1m5s\u001b[0m 155ms/step - accuracy: 0.9205 - loss: 0.2836 - val_accuracy: 0.9107 - val_loss: 0.2445\n",
      "Epoch 9/30\n",
      "\u001b[1m35/35\u001b[0m \u001b[32m━━━━━━━━━━━━━━━━━━━━\u001b[0m\u001b[37m\u001b[0m \u001b[1m5s\u001b[0m 156ms/step - accuracy: 0.9184 - loss: 0.2823 - val_accuracy: 0.9393 - val_loss: 0.1693\n",
      "Epoch 10/30\n",
      "\u001b[1m35/35\u001b[0m \u001b[32m━━━━━━━━━━━━━━━━━━━━\u001b[0m\u001b[37m\u001b[0m \u001b[1m5s\u001b[0m 156ms/step - accuracy: 0.9346 - loss: 0.2116 - val_accuracy: 0.9018 - val_loss: 0.2858\n",
      "Epoch 11/30\n",
      "\u001b[1m35/35\u001b[0m \u001b[32m━━━━━━━━━━━━━━━━━━━━\u001b[0m\u001b[37m\u001b[0m \u001b[1m6s\u001b[0m 161ms/step - accuracy: 0.9240 - loss: 0.2282 - val_accuracy: 0.9018 - val_loss: 0.2901\n",
      "Epoch 12/30\n",
      "\u001b[1m35/35\u001b[0m \u001b[32m━━━━━━━━━━━━━━━━━━━━\u001b[0m\u001b[37m\u001b[0m \u001b[1m6s\u001b[0m 159ms/step - accuracy: 0.9101 - loss: 0.2751 - val_accuracy: 0.9089 - val_loss: 0.3144\n",
      "Epoch 13/30\n",
      "\u001b[1m35/35\u001b[0m \u001b[32m━━━━━━━━━━━━━━━━━━━━\u001b[0m\u001b[37m\u001b[0m \u001b[1m6s\u001b[0m 160ms/step - accuracy: 0.9239 - loss: 0.2728 - val_accuracy: 0.9286 - val_loss: 0.2192\n",
      "Epoch 14/30\n",
      "\u001b[1m35/35\u001b[0m \u001b[32m━━━━━━━━━━━━━━━━━━━━\u001b[0m\u001b[37m\u001b[0m \u001b[1m6s\u001b[0m 158ms/step - accuracy: 0.9254 - loss: 0.2455 - val_accuracy: 0.9446 - val_loss: 0.1574\n",
      "Epoch 15/30\n",
      "\u001b[1m35/35\u001b[0m \u001b[32m━━━━━━━━━━━━━━━━━━━━\u001b[0m\u001b[37m\u001b[0m \u001b[1m5s\u001b[0m 157ms/step - accuracy: 0.9473 - loss: 0.1959 - val_accuracy: 0.9250 - val_loss: 0.2591\n",
      "Epoch 16/30\n",
      "\u001b[1m35/35\u001b[0m \u001b[32m━━━━━━━━━━━━━━━━━━━━\u001b[0m\u001b[37m\u001b[0m \u001b[1m6s\u001b[0m 157ms/step - accuracy: 0.9512 - loss: 0.1741 - val_accuracy: 0.9179 - val_loss: 0.2880\n",
      "Epoch 17/30\n",
      "\u001b[1m35/35\u001b[0m \u001b[32m━━━━━━━━━━━━━━━━━━━━\u001b[0m\u001b[37m\u001b[0m \u001b[1m6s\u001b[0m 156ms/step - accuracy: 0.9204 - loss: 0.2994 - val_accuracy: 0.9446 - val_loss: 0.1919\n",
      "Epoch 18/30\n",
      "\u001b[1m35/35\u001b[0m \u001b[32m━━━━━━━━━━━━━━━━━━━━\u001b[0m\u001b[37m\u001b[0m \u001b[1m6s\u001b[0m 158ms/step - accuracy: 0.9388 - loss: 0.2187 - val_accuracy: 0.9500 - val_loss: 0.1371\n",
      "Epoch 19/30\n",
      "\u001b[1m35/35\u001b[0m \u001b[32m━━━━━━━━━━━━━━━━━━━━\u001b[0m\u001b[37m\u001b[0m \u001b[1m6s\u001b[0m 164ms/step - accuracy: 0.9570 - loss: 0.1439 - val_accuracy: 0.9268 - val_loss: 0.2321\n",
      "Epoch 20/30\n",
      "\u001b[1m35/35\u001b[0m \u001b[32m━━━━━━━━━━━━━━━━━━━━\u001b[0m\u001b[37m\u001b[0m \u001b[1m6s\u001b[0m 161ms/step - accuracy: 0.9441 - loss: 0.1918 - val_accuracy: 0.9393 - val_loss: 0.1765\n",
      "Epoch 21/30\n",
      "\u001b[1m35/35\u001b[0m \u001b[32m━━━━━━━━━━━━━━━━━━━━\u001b[0m\u001b[37m\u001b[0m \u001b[1m6s\u001b[0m 158ms/step - accuracy: 0.9578 - loss: 0.1690 - val_accuracy: 0.9536 - val_loss: 0.1383\n",
      "Epoch 22/30\n",
      "\u001b[1m35/35\u001b[0m \u001b[32m━━━━━━━━━━━━━━━━━━━━\u001b[0m\u001b[37m\u001b[0m \u001b[1m6s\u001b[0m 155ms/step - accuracy: 0.9506 - loss: 0.1822 - val_accuracy: 0.9571 - val_loss: 0.1442\n",
      "Epoch 23/30\n",
      "\u001b[1m35/35\u001b[0m \u001b[32m━━━━━━━━━━━━━━━━━━━━\u001b[0m\u001b[37m\u001b[0m \u001b[1m5s\u001b[0m 155ms/step - accuracy: 0.9641 - loss: 0.1347 - val_accuracy: 0.9643 - val_loss: 0.1392\n",
      "Epoch 24/30\n",
      "\u001b[1m35/35\u001b[0m \u001b[32m━━━━━━━━━━━━━━━━━━━━\u001b[0m\u001b[37m\u001b[0m \u001b[1m5s\u001b[0m 156ms/step - accuracy: 0.9631 - loss: 0.1134 - val_accuracy: 0.9625 - val_loss: 0.1439\n",
      "Epoch 25/30\n",
      "\u001b[1m35/35\u001b[0m \u001b[32m━━━━━━━━━━━━━━━━━━━━\u001b[0m\u001b[37m\u001b[0m \u001b[1m6s\u001b[0m 159ms/step - accuracy: 0.9714 - loss: 0.1295 - val_accuracy: 0.9679 - val_loss: 0.1426\n",
      "Epoch 26/30\n",
      "\u001b[1m35/35\u001b[0m \u001b[32m━━━━━━━━━━━━━━━━━━━━\u001b[0m\u001b[37m\u001b[0m \u001b[1m6s\u001b[0m 158ms/step - accuracy: 0.9652 - loss: 0.1184 - val_accuracy: 0.9554 - val_loss: 0.1491\n",
      "Epoch 27/30\n",
      "\u001b[1m35/35\u001b[0m \u001b[32m━━━━━━━━━━━━━━━━━━━━\u001b[0m\u001b[37m\u001b[0m \u001b[1m5s\u001b[0m 155ms/step - accuracy: 0.9661 - loss: 0.1205 - val_accuracy: 0.9625 - val_loss: 0.1138\n",
      "Epoch 28/30\n",
      "\u001b[1m35/35\u001b[0m \u001b[32m━━━━━━━━━━━━━━━━━━━━\u001b[0m\u001b[37m\u001b[0m \u001b[1m5s\u001b[0m 155ms/step - accuracy: 0.9756 - loss: 0.1016 - val_accuracy: 0.9696 - val_loss: 0.1094\n",
      "Epoch 29/30\n",
      "\u001b[1m35/35\u001b[0m \u001b[32m━━━━━━━━━━━━━━━━━━━━\u001b[0m\u001b[37m\u001b[0m \u001b[1m6s\u001b[0m 156ms/step - accuracy: 0.9753 - loss: 0.0925 - val_accuracy: 0.9446 - val_loss: 0.1951\n",
      "Epoch 30/30\n",
      "\u001b[1m35/35\u001b[0m \u001b[32m━━━━━━━━━━━━━━━━━━━━\u001b[0m\u001b[37m\u001b[0m \u001b[1m6s\u001b[0m 157ms/step - accuracy: 0.9779 - loss: 0.0964 - val_accuracy: 0.9696 - val_loss: 0.1265\n"
     ]
    }
   ],
   "source": [
    "history = model.fit(X_train, y_train, validation_data=(X_test,y_test), epochs = 30, batch_size=64)"
   ]
  },
  {
   "cell_type": "markdown",
   "id": "02a1954a-a12b-4f37-995f-2a6eb987d123",
   "metadata": {},
   "source": [
    "## Evaluation of the model"
   ]
  },
  {
   "cell_type": "code",
   "execution_count": 13,
   "id": "3447f48c-8a57-4a72-9249-98beee733166",
   "metadata": {},
   "outputs": [
    {
     "data": {
      "image/png": "[encoded data removed]",
      "text/plain": [
       "<Figure size 640x480 with 1 Axes>"
      ]
     },
     "metadata": {},
     "output_type": "display_data"
    }
   ],
   "source": [
    "epochs =list(range(30))\n",
    "acc = history.history['accuracy']\n",
    "val_acc = history.history['val_accuracy']\n",
    "plt.plot(epochs,acc, label='train accuracy')\n",
    "plt.plot(epochs, val_acc, label='val accuracy')\n",
    "plt.xlabel('epochs')\n",
    "plt.ylabel('accuracy')\n",
    "plt.legend()\n",
    "plt.show()"
   ]
  },
  {
   "cell_type": "code",
   "execution_count": 14,
   "id": "d4751975-dbe1-42ff-9f48-f257714a8ea8",
   "metadata": {},
   "outputs": [
    {
     "data": {
      "image/png": "[encoded data removed]",
      "text/plain": [
       "<Figure size 640x480 with 1 Axes>"
      ]
     },
     "metadata": {},
     "output_type": "display_data"
    }
   ],
   "source": [
    "loss = history.history['loss']\n",
    "val_loss = history.history['val_loss']\n",
    "plt.plot(epochs,loss, label='train loss')\n",
    "plt.plot(epochs,loss, label='val loss')\n",
    "plt.xlabel('epochs')\n",
    "plt.ylabel('loss')\n",
    "plt.legend()\n",
    "plt.show()"
   ]
  },
  {
   "cell_type": "code",
   "execution_count": 15,
   "id": "98c19b1b-c824-485e-adcd-446a51fe63ed",
   "metadata": {},
   "outputs": [
    {
     "name": "stdout",
     "output_type": "stream",
     "text": [
      "\u001b[1m18/18\u001b[0m \u001b[32m━━━━━━━━━━━━━━━━━━━━\u001b[0m\u001b[37m\u001b[0m \u001b[1m2s\u001b[0m 67ms/step\n"
     ]
    }
   ],
   "source": [
    "y_pred = model.predict(X_test)\n",
    "y_pred_classes = np.argmax(y_pred,axis=1)\n",
    "y_val_classes = np.argmax(y_test,axis=1)"
   ]
  },
  {
   "cell_type": "code",
   "execution_count": 17,
   "id": "0bef22bb-8a54-40e8-9dfe-7542dc7b8834",
   "metadata": {},
   "outputs": [
    {
     "name": "stdout",
     "output_type": "stream",
     "text": [
      "Confusion Matrix :\n",
      "tf.Tensor(\n",
      "[[68  0  1  3  0  0  2]\n",
      " [ 0 78  0  0  0  0  0]\n",
      " [ 0  0 89  0  0  0  0]\n",
      " [ 0  0  4 70  0  0  3]\n",
      " [ 0  0  0  0 73  0  0]\n",
      " [ 0  1  0  0  0 80  1]\n",
      " [ 0  1  0  1  0  0 85]], shape=(7, 7), dtype=int32)\n",
      "Classification Report :\n",
      "              precision    recall  f1-score   support\n",
      "\n",
      "       angry       1.00      0.92      0.96        74\n",
      "     disgust       0.97      1.00      0.99        78\n",
      "        fear       0.95      1.00      0.97        89\n",
      "       happy       0.95      0.91      0.93        77\n",
      "     neutral       1.00      1.00      1.00        73\n",
      "    surprise       1.00      0.98      0.99        82\n",
      "         sad       0.93      0.98      0.96        87\n",
      "\n",
      "    accuracy                           0.97       560\n",
      "   macro avg       0.97      0.97      0.97       560\n",
      "weighted avg       0.97      0.97      0.97       560\n",
      "\n"
     ]
    }
   ],
   "source": [
    "from tensorflow.math import confusion_matrix\n",
    "conf_matrix = confusion_matrix(y_val_classes,y_pred_classes)\n",
    "print(\"Confusion Matrix :\")\n",
    "print(conf_matrix)\n",
    "target_names = ['angry', 'disgust', 'fear', 'happy', 'neutral', 'surprise', 'sad']\n",
    "print(\"Classification Report :\")\n",
    "print(classification_report(y_val_classes, y_pred_classes, target_names=target_names))"
   ]
  },
  {
   "cell_type": "markdown",
   "id": "0a15248c",
   "metadata": {},
   "source": [
    "## Saving the model"
   ]
  },
  {
   "cell_type": "code",
   "execution_count": 18,
   "id": "f918af81",
   "metadata": {},
   "outputs": [
    {
     "name": "stderr",
     "output_type": "stream",
     "text": [
      "WARNING:absl:You are saving your model as an HDF5 file via `model.save()` or `keras.saving.save_model(model)`. This file format is considered legacy. We recommend using instead the native Keras format, e.g. `model.save('my_model.keras')` or `keras.saving.save_model(model, 'my_model.keras')`. \n"
     ]
    }
   ],
   "source": [
    "model.save('speech_emotion_recognition_model.h5')"
   ]
  },
  {
   "cell_type": "code",
   "execution_count": null,
   "id": "9fc77155-f6e4-429c-8b31-ea76af17d802",
   "metadata": {},
   "outputs": [],
   "source": []
  }
 ],
 "metadata": {
  "kernelspec": {
   "display_name": "Python 3 (ipykernel)",
   "language": "python",
   "name": "python3"
  },
  "language_info": {
   "codemirror_mode": {
    "name": "ipython",
    "version": 3
   },
   "file_extension": ".py",
   "mimetype": "text/x-python",
   "name": "python",
   "nbconvert_exporter": "python",
   "pygments_lexer": "ipython3",
   "version": "3.12.4"
  }
 },
 "nbformat": 4,
 "nbformat_minor": 5
}
